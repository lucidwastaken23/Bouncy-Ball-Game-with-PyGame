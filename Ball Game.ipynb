{
 "cells": [
  {
   "cell_type": "code",
   "execution_count": 8,
   "id": "spatial-release",
   "metadata": {},
   "outputs": [
    {
     "name": "stderr",
     "output_type": "stream",
     "text": [
      "<ipython-input-8-4b0c6d4ae0cc>:24: DeprecationWarning: an integer is required (got type float).  Implicit conversion to integers using __int__ is deprecated, and may be removed in a future version of Python.\n",
      "  ball= pygame.Rect(screen_width/2,screen_height/2 - 15,20,20)\n"
     ]
    },
    {
     "ename": "SystemExit",
     "evalue": "",
     "output_type": "error",
     "traceback": [
      "An exception has occurred, use %tb to see the full traceback.\n",
      "\u001b[1;31mSystemExit\u001b[0m\n"
     ]
    }
   ],
   "source": [
    "import pygame, sys\n",
    "\n",
    "def ball_animation():\n",
    "    global ball_speed_x, ball_speed_y\n",
    "    ball.x += ball_speed_x\n",
    "    ball.y += ball_speed_y\n",
    "    \n",
    "    if ball.top <= 0 or ball.bottom >= screen_height:\n",
    "        ball_speed_y *= -1\n",
    "    if ball.left <= 0 or ball.right >= screen_width:\n",
    "        ball_speed_x *= -1\n",
    "\n",
    "pygame.init()\n",
    "clock= pygame.time.Clock()\n",
    "\n",
    "screen_width= 960\n",
    "screen_height= 660\n",
    "screen= pygame.display.set_mode((screen_width,screen_height))\n",
    "\n",
    "pygame.display.set_caption(\"Ball\")\n",
    "icon= pygame.image.load(\"ball.png\")\n",
    "pygame.display.set_icon(icon)\n",
    "\n",
    "ball= pygame.Rect(screen_width/2,screen_height/2 - 15,20,20)\n",
    "\n",
    "bg_color= pygame.Color(\"grey12\")\n",
    "light_grey= (200,200,200)\n",
    "\n",
    "ball_speed_x= 7\n",
    "ball_speed_y= 7\n",
    "player_speed= 0\n",
    "\n",
    "while True:\n",
    "    for event in pygame.event.get():\n",
    "        if event.type== pygame.QUIT:\n",
    "            pygame.quit()\n",
    "            sys.exit()\n",
    "                 \n",
    "    ball_animation()\n",
    "    \n",
    "    screen.fill(bg_color)\n",
    "    pygame.draw.ellipse(screen,light_grey,ball)\n",
    "    \n",
    "    pygame.display.flip()\n",
    "    clock.tick(60)"
   ]
  }
 ],
 "metadata": {
  "kernelspec": {
   "display_name": "Python 3",
   "language": "python",
   "name": "python3"
  },
  "language_info": {
   "codemirror_mode": {
    "name": "ipython",
    "version": 3
   },
   "file_extension": ".py",
   "mimetype": "text/x-python",
   "name": "python",
   "nbconvert_exporter": "python",
   "pygments_lexer": "ipython3",
   "version": "3.8.7"
  }
 },
 "nbformat": 4,
 "nbformat_minor": 5
}
